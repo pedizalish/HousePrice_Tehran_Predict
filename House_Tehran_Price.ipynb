{
 "cells": [
  {
   "cell_type": "code",
   "execution_count": 97,
   "id": "00a4cd4b",
   "metadata": {},
   "outputs": [],
   "source": [
    "import numpy as np\n",
    "import pandas as pd\n",
    "import matplotlib.pyplot as plt\n",
    "import seaborn as sns\n",
    "from scipy.stats import f_oneway\n",
    "from scipy.stats import pearsonr\n",
    "from sklearn.linear_model import LinearRegression\n",
    "from sklearn.preprocessing import PolynomialFeatures\n",
    "from sklearn.preprocessing import StandardScaler\n",
    "from sklearn.pipeline import Pipeline\n",
    "from sklearn.metrics import mean_squared_error\n",
    "from sklearn.model_selection import train_test_split\n",
    "from sklearn.model_selection import cross_val_score\n",
    "from sklearn.model_selection import cross_val_predict\n",
    "from sklearn.linear_model import Ridge\n",
    "from sklearn.model_selection import GridSearchCV"
   ]
  },
  {
   "cell_type": "code",
   "execution_count": 54,
   "id": "295d3658",
   "metadata": {},
   "outputs": [],
   "source": [
    "File_Path = r'C:\\Users\\User\\Desktop\\Excel\\housePrice.csv'\n",
    "df = pd.read_csv(File_Path)"
   ]
  },
  {
   "cell_type": "code",
   "execution_count": 55,
   "id": "3b2c115c",
   "metadata": {},
   "outputs": [],
   "source": [
    "header = ['Areas','Rooms','Parking-lot','Warehouse','Having-Elevator','Location','Price-Rial','Price-USD']\n",
    "df.columns = header"
   ]
  },
  {
   "cell_type": "code",
   "execution_count": 56,
   "id": "ee71e03a",
   "metadata": {},
   "outputs": [],
   "source": [
    "df = df.replace(' ',np.nan)\n",
    "df = df.dropna(subset=['Price-USD'],axis=0)"
   ]
  },
  {
   "cell_type": "code",
   "execution_count": 57,
   "id": "a12dde02",
   "metadata": {},
   "outputs": [
    {
     "data": {
      "text/plain": [
       "Areas               object\n",
       "Rooms                int64\n",
       "Parking-lot           bool\n",
       "Warehouse             bool\n",
       "Having-Elevator       bool\n",
       "Location            object\n",
       "Price-Rial         float64\n",
       "Price-USD          float64\n",
       "dtype: object"
      ]
     },
     "execution_count": 57,
     "metadata": {},
     "output_type": "execute_result"
    }
   ],
   "source": [
    "df.dtypes"
   ]
  },
  {
   "cell_type": "code",
   "execution_count": 58,
   "id": "24f73f78",
   "metadata": {},
   "outputs": [],
   "source": [
    "for columns in header:\n",
    "    if isinstance(type(df[columns]),float or int):\n",
    "        df[columns].replace(np.nan,df[columns].mean())\n",
    "    if isinstance(type(df[columns]),str or bool):\n",
    "        df[columns].replace(np.nan,df[columns].value_counts().idxmax())"
   ]
  },
  {
   "cell_type": "code",
   "execution_count": 59,
   "id": "7947f7f8",
   "metadata": {},
   "outputs": [
    {
     "data": {
      "text/html": [
       "<div>\n",
       "<style scoped>\n",
       "    .dataframe tbody tr th:only-of-type {\n",
       "        vertical-align: middle;\n",
       "    }\n",
       "\n",
       "    .dataframe tbody tr th {\n",
       "        vertical-align: top;\n",
       "    }\n",
       "\n",
       "    .dataframe thead th {\n",
       "        text-align: right;\n",
       "    }\n",
       "</style>\n",
       "<table border=\"1\" class=\"dataframe\">\n",
       "  <thead>\n",
       "    <tr style=\"text-align: right;\">\n",
       "      <th></th>\n",
       "      <th>Areas</th>\n",
       "      <th>Rooms</th>\n",
       "      <th>Parking-lot</th>\n",
       "      <th>Warehouse</th>\n",
       "      <th>Having-Elevator</th>\n",
       "      <th>Location</th>\n",
       "      <th>Price-Rial</th>\n",
       "      <th>Price-USD</th>\n",
       "    </tr>\n",
       "  </thead>\n",
       "  <tbody>\n",
       "    <tr>\n",
       "      <th>count</th>\n",
       "      <td>3479</td>\n",
       "      <td>3479.000000</td>\n",
       "      <td>3479</td>\n",
       "      <td>3479</td>\n",
       "      <td>3479</td>\n",
       "      <td>3456</td>\n",
       "      <td>3.479000e+03</td>\n",
       "      <td>3.479000e+03</td>\n",
       "    </tr>\n",
       "    <tr>\n",
       "      <th>unique</th>\n",
       "      <td>243</td>\n",
       "      <td>NaN</td>\n",
       "      <td>2</td>\n",
       "      <td>2</td>\n",
       "      <td>2</td>\n",
       "      <td>192</td>\n",
       "      <td>NaN</td>\n",
       "      <td>NaN</td>\n",
       "    </tr>\n",
       "    <tr>\n",
       "      <th>top</th>\n",
       "      <td>75</td>\n",
       "      <td>NaN</td>\n",
       "      <td>True</td>\n",
       "      <td>True</td>\n",
       "      <td>True</td>\n",
       "      <td>Punak</td>\n",
       "      <td>NaN</td>\n",
       "      <td>NaN</td>\n",
       "    </tr>\n",
       "    <tr>\n",
       "      <th>freq</th>\n",
       "      <td>111</td>\n",
       "      <td>NaN</td>\n",
       "      <td>2950</td>\n",
       "      <td>3182</td>\n",
       "      <td>2739</td>\n",
       "      <td>161</td>\n",
       "      <td>NaN</td>\n",
       "      <td>NaN</td>\n",
       "    </tr>\n",
       "    <tr>\n",
       "      <th>mean</th>\n",
       "      <td>NaN</td>\n",
       "      <td>2.079908</td>\n",
       "      <td>NaN</td>\n",
       "      <td>NaN</td>\n",
       "      <td>NaN</td>\n",
       "      <td>NaN</td>\n",
       "      <td>5.359023e+09</td>\n",
       "      <td>1.786341e+05</td>\n",
       "    </tr>\n",
       "    <tr>\n",
       "      <th>std</th>\n",
       "      <td>NaN</td>\n",
       "      <td>0.758275</td>\n",
       "      <td>NaN</td>\n",
       "      <td>NaN</td>\n",
       "      <td>NaN</td>\n",
       "      <td>NaN</td>\n",
       "      <td>8.099935e+09</td>\n",
       "      <td>2.699978e+05</td>\n",
       "    </tr>\n",
       "    <tr>\n",
       "      <th>min</th>\n",
       "      <td>NaN</td>\n",
       "      <td>0.000000</td>\n",
       "      <td>NaN</td>\n",
       "      <td>NaN</td>\n",
       "      <td>NaN</td>\n",
       "      <td>NaN</td>\n",
       "      <td>3.600000e+06</td>\n",
       "      <td>1.200000e+02</td>\n",
       "    </tr>\n",
       "    <tr>\n",
       "      <th>25%</th>\n",
       "      <td>NaN</td>\n",
       "      <td>2.000000</td>\n",
       "      <td>NaN</td>\n",
       "      <td>NaN</td>\n",
       "      <td>NaN</td>\n",
       "      <td>NaN</td>\n",
       "      <td>1.418250e+09</td>\n",
       "      <td>4.727500e+04</td>\n",
       "    </tr>\n",
       "    <tr>\n",
       "      <th>50%</th>\n",
       "      <td>NaN</td>\n",
       "      <td>2.000000</td>\n",
       "      <td>NaN</td>\n",
       "      <td>NaN</td>\n",
       "      <td>NaN</td>\n",
       "      <td>NaN</td>\n",
       "      <td>2.900000e+09</td>\n",
       "      <td>9.666667e+04</td>\n",
       "    </tr>\n",
       "    <tr>\n",
       "      <th>75%</th>\n",
       "      <td>NaN</td>\n",
       "      <td>2.000000</td>\n",
       "      <td>NaN</td>\n",
       "      <td>NaN</td>\n",
       "      <td>NaN</td>\n",
       "      <td>NaN</td>\n",
       "      <td>6.000000e+09</td>\n",
       "      <td>2.000000e+05</td>\n",
       "    </tr>\n",
       "    <tr>\n",
       "      <th>max</th>\n",
       "      <td>NaN</td>\n",
       "      <td>5.000000</td>\n",
       "      <td>NaN</td>\n",
       "      <td>NaN</td>\n",
       "      <td>NaN</td>\n",
       "      <td>NaN</td>\n",
       "      <td>9.240000e+10</td>\n",
       "      <td>3.080000e+06</td>\n",
       "    </tr>\n",
       "  </tbody>\n",
       "</table>\n",
       "</div>"
      ],
      "text/plain": [
       "       Areas        Rooms Parking-lot Warehouse Having-Elevator Location  \\\n",
       "count   3479  3479.000000        3479      3479            3479     3456   \n",
       "unique   243          NaN           2         2               2      192   \n",
       "top       75          NaN        True      True            True    Punak   \n",
       "freq     111          NaN        2950      3182            2739      161   \n",
       "mean     NaN     2.079908         NaN       NaN             NaN      NaN   \n",
       "std      NaN     0.758275         NaN       NaN             NaN      NaN   \n",
       "min      NaN     0.000000         NaN       NaN             NaN      NaN   \n",
       "25%      NaN     2.000000         NaN       NaN             NaN      NaN   \n",
       "50%      NaN     2.000000         NaN       NaN             NaN      NaN   \n",
       "75%      NaN     2.000000         NaN       NaN             NaN      NaN   \n",
       "max      NaN     5.000000         NaN       NaN             NaN      NaN   \n",
       "\n",
       "          Price-Rial     Price-USD  \n",
       "count   3.479000e+03  3.479000e+03  \n",
       "unique           NaN           NaN  \n",
       "top              NaN           NaN  \n",
       "freq             NaN           NaN  \n",
       "mean    5.359023e+09  1.786341e+05  \n",
       "std     8.099935e+09  2.699978e+05  \n",
       "min     3.600000e+06  1.200000e+02  \n",
       "25%     1.418250e+09  4.727500e+04  \n",
       "50%     2.900000e+09  9.666667e+04  \n",
       "75%     6.000000e+09  2.000000e+05  \n",
       "max     9.240000e+10  3.080000e+06  "
      ]
     },
     "execution_count": 59,
     "metadata": {},
     "output_type": "execute_result"
    }
   ],
   "source": [
    "df.describe( include = \"all\" )"
   ]
  },
  {
   "cell_type": "code",
   "execution_count": 60,
   "id": "ac806a7e",
   "metadata": {},
   "outputs": [],
   "source": [
    "df['Price-Rial-Standard_score'] = (df['Price-Rial'] - df['Price-Rial'].mean()) / df['Price-Rial'].std()\n",
    "df['Price-Rial'] = df['Price-Rial'] / 262300\n",
    "df.rename(columns={'Price-Rial':'Price-USD-Today'},inplace=True)"
   ]
  },
  {
   "cell_type": "code",
   "execution_count": 61,
   "id": "e63f3761",
   "metadata": {},
   "outputs": [],
   "source": [
    "df = df.drop(['Price-USD'],axis=1)"
   ]
  },
  {
   "cell_type": "code",
   "execution_count": 62,
   "id": "7ed8cc3d",
   "metadata": {},
   "outputs": [],
   "source": [
    "bins = np.linspace(min(df['Price-USD-Today']),max(df['Price-USD-Today']),6)\n",
    "group_names = ['very-low','low','medium','high','very-high']\n",
    "df['Price-USD-Today-binned'] = pd.cut(df['Price-USD-Today'],bins=bins,labels=group_names)"
   ]
  },
  {
   "cell_type": "code",
   "execution_count": 63,
   "id": "82ed8c24",
   "metadata": {},
   "outputs": [],
   "source": [
    "df.reset_index( drop=True , inplace=True)"
   ]
  },
  {
   "cell_type": "code",
   "execution_count": 64,
   "id": "69f4b282",
   "metadata": {},
   "outputs": [
    {
     "data": {
      "text/plain": [
       "Areas                          object\n",
       "Rooms                           int64\n",
       "Parking-lot                    object\n",
       "Warehouse                      object\n",
       "Having-Elevator                object\n",
       "Location                       object\n",
       "Price-USD-Today               float64\n",
       "Price-Rial-Standard_score     float64\n",
       "Price-USD-Today-binned       category\n",
       "dtype: object"
      ]
     },
     "execution_count": 64,
     "metadata": {},
     "output_type": "execute_result"
    }
   ],
   "source": [
    "bool_column = ['Parking-lot','Warehouse','Having-Elevator']\n",
    "for column in bool_column:\n",
    "    df[column] = df[column].astype('object')\n",
    "df.dtypes"
   ]
  },
  {
   "cell_type": "code",
   "execution_count": 65,
   "id": "cd19ab3f",
   "metadata": {},
   "outputs": [],
   "source": [
    "df['Parking-lot'] = df['Parking-lot'].replace(True,'Having_Parking_lot')\n",
    "df['Parking-lot'] = df['Parking-lot'].replace(False,'Not_Having_Parking_lot')\n",
    "df['Warehouse'] = df['Warehouse'].replace(True,'Having_Warehouse')\n",
    "df['Warehouse'] = df['Warehouse'].replace(False,'Not_Having_Warehouse')\n",
    "df['Having-Elevator'] = df['Having-Elevator'].replace(True,'Having_Elevator')\n",
    "df['Having-Elevator'] = df['Having-Elevator'].replace(False,'Not_Having_Elevator')\n"
   ]
  },
  {
   "cell_type": "code",
   "execution_count": 66,
   "id": "48d37c7f",
   "metadata": {},
   "outputs": [],
   "source": [
    "dummy_variable_1 = pd.get_dummies(df['Parking-lot'])\n",
    "dummy_variable_2 = pd.get_dummies(df['Warehouse'])\n",
    "dummy_variable_3 = pd.get_dummies(df['Having-Elevator'])\n",
    "df = pd.concat([df,dummy_variable_1,dummy_variable_2,dummy_variable_3],axis=1)"
   ]
  },
  {
   "cell_type": "code",
   "execution_count": 67,
   "id": "f79ead31",
   "metadata": {},
   "outputs": [
    {
     "data": {
      "text/html": [
       "<div>\n",
       "<style scoped>\n",
       "    .dataframe tbody tr th:only-of-type {\n",
       "        vertical-align: middle;\n",
       "    }\n",
       "\n",
       "    .dataframe tbody tr th {\n",
       "        vertical-align: top;\n",
       "    }\n",
       "\n",
       "    .dataframe thead th {\n",
       "        text-align: right;\n",
       "    }\n",
       "</style>\n",
       "<table border=\"1\" class=\"dataframe\">\n",
       "  <thead>\n",
       "    <tr style=\"text-align: right;\">\n",
       "      <th></th>\n",
       "      <th>Areas</th>\n",
       "      <th>Rooms</th>\n",
       "      <th>Parking-lot</th>\n",
       "      <th>Warehouse</th>\n",
       "      <th>Having-Elevator</th>\n",
       "      <th>Location</th>\n",
       "      <th>Price-USD-Today</th>\n",
       "      <th>Price-Rial-Standard_score</th>\n",
       "      <th>Price-USD-Today-binned</th>\n",
       "      <th>Having_Parking_lot</th>\n",
       "      <th>Not_Having_Parking_lot</th>\n",
       "      <th>Having_Warehouse</th>\n",
       "      <th>Not_Having_Warehouse</th>\n",
       "      <th>Having_Elevator</th>\n",
       "      <th>Not_Having_Elevator</th>\n",
       "    </tr>\n",
       "  </thead>\n",
       "  <tbody>\n",
       "    <tr>\n",
       "      <th>0</th>\n",
       "      <td>63</td>\n",
       "      <td>1</td>\n",
       "      <td>Having_Parking_lot</td>\n",
       "      <td>Having_Warehouse</td>\n",
       "      <td>Having_Elevator</td>\n",
       "      <td>Shahran</td>\n",
       "      <td>7052.992756</td>\n",
       "      <td>-0.433216</td>\n",
       "      <td>very-low</td>\n",
       "      <td>1</td>\n",
       "      <td>0</td>\n",
       "      <td>1</td>\n",
       "      <td>0</td>\n",
       "      <td>1</td>\n",
       "      <td>0</td>\n",
       "    </tr>\n",
       "    <tr>\n",
       "      <th>1</th>\n",
       "      <td>60</td>\n",
       "      <td>1</td>\n",
       "      <td>Having_Parking_lot</td>\n",
       "      <td>Having_Warehouse</td>\n",
       "      <td>Having_Elevator</td>\n",
       "      <td>Shahran</td>\n",
       "      <td>7052.992756</td>\n",
       "      <td>-0.433216</td>\n",
       "      <td>very-low</td>\n",
       "      <td>1</td>\n",
       "      <td>0</td>\n",
       "      <td>1</td>\n",
       "      <td>0</td>\n",
       "      <td>1</td>\n",
       "      <td>0</td>\n",
       "    </tr>\n",
       "    <tr>\n",
       "      <th>2</th>\n",
       "      <td>79</td>\n",
       "      <td>2</td>\n",
       "      <td>Having_Parking_lot</td>\n",
       "      <td>Having_Warehouse</td>\n",
       "      <td>Having_Elevator</td>\n",
       "      <td>Pardis</td>\n",
       "      <td>2096.835684</td>\n",
       "      <td>-0.593711</td>\n",
       "      <td>very-low</td>\n",
       "      <td>1</td>\n",
       "      <td>0</td>\n",
       "      <td>1</td>\n",
       "      <td>0</td>\n",
       "      <td>1</td>\n",
       "      <td>0</td>\n",
       "    </tr>\n",
       "    <tr>\n",
       "      <th>3</th>\n",
       "      <td>95</td>\n",
       "      <td>2</td>\n",
       "      <td>Having_Parking_lot</td>\n",
       "      <td>Having_Warehouse</td>\n",
       "      <td>Having_Elevator</td>\n",
       "      <td>Shahrake Qods</td>\n",
       "      <td>3440.716737</td>\n",
       "      <td>-0.550192</td>\n",
       "      <td>very-low</td>\n",
       "      <td>1</td>\n",
       "      <td>0</td>\n",
       "      <td>1</td>\n",
       "      <td>0</td>\n",
       "      <td>1</td>\n",
       "      <td>0</td>\n",
       "    </tr>\n",
       "    <tr>\n",
       "      <th>4</th>\n",
       "      <td>123</td>\n",
       "      <td>2</td>\n",
       "      <td>Having_Parking_lot</td>\n",
       "      <td>Having_Warehouse</td>\n",
       "      <td>Having_Elevator</td>\n",
       "      <td>Shahrake Gharb</td>\n",
       "      <td>26686.999619</td>\n",
       "      <td>0.202591</td>\n",
       "      <td>very-low</td>\n",
       "      <td>1</td>\n",
       "      <td>0</td>\n",
       "      <td>1</td>\n",
       "      <td>0</td>\n",
       "      <td>1</td>\n",
       "      <td>0</td>\n",
       "    </tr>\n",
       "    <tr>\n",
       "      <th>...</th>\n",
       "      <td>...</td>\n",
       "      <td>...</td>\n",
       "      <td>...</td>\n",
       "      <td>...</td>\n",
       "      <td>...</td>\n",
       "      <td>...</td>\n",
       "      <td>...</td>\n",
       "      <td>...</td>\n",
       "      <td>...</td>\n",
       "      <td>...</td>\n",
       "      <td>...</td>\n",
       "      <td>...</td>\n",
       "      <td>...</td>\n",
       "      <td>...</td>\n",
       "      <td>...</td>\n",
       "    </tr>\n",
       "    <tr>\n",
       "      <th>3474</th>\n",
       "      <td>86</td>\n",
       "      <td>2</td>\n",
       "      <td>Having_Parking_lot</td>\n",
       "      <td>Having_Warehouse</td>\n",
       "      <td>Having_Elevator</td>\n",
       "      <td>Southern Janatabad</td>\n",
       "      <td>13343.499809</td>\n",
       "      <td>-0.229511</td>\n",
       "      <td>very-low</td>\n",
       "      <td>1</td>\n",
       "      <td>0</td>\n",
       "      <td>1</td>\n",
       "      <td>0</td>\n",
       "      <td>1</td>\n",
       "      <td>0</td>\n",
       "    </tr>\n",
       "    <tr>\n",
       "      <th>3475</th>\n",
       "      <td>83</td>\n",
       "      <td>2</td>\n",
       "      <td>Having_Parking_lot</td>\n",
       "      <td>Having_Warehouse</td>\n",
       "      <td>Having_Elevator</td>\n",
       "      <td>Niavaran</td>\n",
       "      <td>25924.513915</td>\n",
       "      <td>0.177900</td>\n",
       "      <td>very-low</td>\n",
       "      <td>1</td>\n",
       "      <td>0</td>\n",
       "      <td>1</td>\n",
       "      <td>0</td>\n",
       "      <td>1</td>\n",
       "      <td>0</td>\n",
       "    </tr>\n",
       "    <tr>\n",
       "      <th>3476</th>\n",
       "      <td>75</td>\n",
       "      <td>2</td>\n",
       "      <td>Not_Having_Parking_lot</td>\n",
       "      <td>Not_Having_Warehouse</td>\n",
       "      <td>Not_Having_Elevator</td>\n",
       "      <td>Parand</td>\n",
       "      <td>1391.536409</td>\n",
       "      <td>-0.616551</td>\n",
       "      <td>very-low</td>\n",
       "      <td>0</td>\n",
       "      <td>1</td>\n",
       "      <td>0</td>\n",
       "      <td>1</td>\n",
       "      <td>0</td>\n",
       "      <td>1</td>\n",
       "    </tr>\n",
       "    <tr>\n",
       "      <th>3477</th>\n",
       "      <td>105</td>\n",
       "      <td>2</td>\n",
       "      <td>Having_Parking_lot</td>\n",
       "      <td>Having_Warehouse</td>\n",
       "      <td>Having_Elevator</td>\n",
       "      <td>Dorous</td>\n",
       "      <td>21349.599695</td>\n",
       "      <td>0.029751</td>\n",
       "      <td>very-low</td>\n",
       "      <td>1</td>\n",
       "      <td>0</td>\n",
       "      <td>1</td>\n",
       "      <td>0</td>\n",
       "      <td>1</td>\n",
       "      <td>0</td>\n",
       "    </tr>\n",
       "    <tr>\n",
       "      <th>3478</th>\n",
       "      <td>82</td>\n",
       "      <td>2</td>\n",
       "      <td>Not_Having_Parking_lot</td>\n",
       "      <td>Having_Warehouse</td>\n",
       "      <td>Having_Elevator</td>\n",
       "      <td>Parand</td>\n",
       "      <td>1372.474266</td>\n",
       "      <td>-0.617168</td>\n",
       "      <td>very-low</td>\n",
       "      <td>0</td>\n",
       "      <td>1</td>\n",
       "      <td>1</td>\n",
       "      <td>0</td>\n",
       "      <td>1</td>\n",
       "      <td>0</td>\n",
       "    </tr>\n",
       "  </tbody>\n",
       "</table>\n",
       "<p>3479 rows × 15 columns</p>\n",
       "</div>"
      ],
      "text/plain": [
       "     Areas  Rooms             Parking-lot             Warehouse  \\\n",
       "0       63      1      Having_Parking_lot      Having_Warehouse   \n",
       "1       60      1      Having_Parking_lot      Having_Warehouse   \n",
       "2       79      2      Having_Parking_lot      Having_Warehouse   \n",
       "3       95      2      Having_Parking_lot      Having_Warehouse   \n",
       "4      123      2      Having_Parking_lot      Having_Warehouse   \n",
       "...    ...    ...                     ...                   ...   \n",
       "3474    86      2      Having_Parking_lot      Having_Warehouse   \n",
       "3475    83      2      Having_Parking_lot      Having_Warehouse   \n",
       "3476    75      2  Not_Having_Parking_lot  Not_Having_Warehouse   \n",
       "3477   105      2      Having_Parking_lot      Having_Warehouse   \n",
       "3478    82      2  Not_Having_Parking_lot      Having_Warehouse   \n",
       "\n",
       "          Having-Elevator            Location  Price-USD-Today  \\\n",
       "0         Having_Elevator             Shahran      7052.992756   \n",
       "1         Having_Elevator             Shahran      7052.992756   \n",
       "2         Having_Elevator              Pardis      2096.835684   \n",
       "3         Having_Elevator       Shahrake Qods      3440.716737   \n",
       "4         Having_Elevator      Shahrake Gharb     26686.999619   \n",
       "...                   ...                 ...              ...   \n",
       "3474      Having_Elevator  Southern Janatabad     13343.499809   \n",
       "3475      Having_Elevator            Niavaran     25924.513915   \n",
       "3476  Not_Having_Elevator              Parand      1391.536409   \n",
       "3477      Having_Elevator              Dorous     21349.599695   \n",
       "3478      Having_Elevator              Parand      1372.474266   \n",
       "\n",
       "      Price-Rial-Standard_score Price-USD-Today-binned  Having_Parking_lot  \\\n",
       "0                     -0.433216               very-low                   1   \n",
       "1                     -0.433216               very-low                   1   \n",
       "2                     -0.593711               very-low                   1   \n",
       "3                     -0.550192               very-low                   1   \n",
       "4                      0.202591               very-low                   1   \n",
       "...                         ...                    ...                 ...   \n",
       "3474                  -0.229511               very-low                   1   \n",
       "3475                   0.177900               very-low                   1   \n",
       "3476                  -0.616551               very-low                   0   \n",
       "3477                   0.029751               very-low                   1   \n",
       "3478                  -0.617168               very-low                   0   \n",
       "\n",
       "      Not_Having_Parking_lot  Having_Warehouse  Not_Having_Warehouse  \\\n",
       "0                          0                 1                     0   \n",
       "1                          0                 1                     0   \n",
       "2                          0                 1                     0   \n",
       "3                          0                 1                     0   \n",
       "4                          0                 1                     0   \n",
       "...                      ...               ...                   ...   \n",
       "3474                       0                 1                     0   \n",
       "3475                       0                 1                     0   \n",
       "3476                       1                 0                     1   \n",
       "3477                       0                 1                     0   \n",
       "3478                       1                 1                     0   \n",
       "\n",
       "      Having_Elevator  Not_Having_Elevator  \n",
       "0                   1                    0  \n",
       "1                   1                    0  \n",
       "2                   1                    0  \n",
       "3                   1                    0  \n",
       "4                   1                    0  \n",
       "...               ...                  ...  \n",
       "3474                1                    0  \n",
       "3475                1                    0  \n",
       "3476                0                    1  \n",
       "3477                1                    0  \n",
       "3478                1                    0  \n",
       "\n",
       "[3479 rows x 15 columns]"
      ]
     },
     "execution_count": 67,
     "metadata": {},
     "output_type": "execute_result"
    }
   ],
   "source": [
    "df"
   ]
  },
  {
   "cell_type": "code",
   "execution_count": 68,
   "id": "0cb07444",
   "metadata": {},
   "outputs": [
    {
     "data": {
      "text/plain": [
       "<AxesSubplot:xlabel='Having-Elevator', ylabel='Price-USD-Today'>"
      ]
     },
     "execution_count": 68,
     "metadata": {},
     "output_type": "execute_result"
    },
    {
     "data": {
      "image/png": "[encoded data removed]",
      "text/plain": [
       "<Figure size 432x288 with 1 Axes>"
      ]
     },
     "metadata": {
      "needs_background": "light"
     },
     "output_type": "display_data"
    }
   ],
   "source": [
    "sns.boxplot(x='Having-Elevator',y='Price-USD-Today',data=df)"
   ]
  },
  {
   "cell_type": "code",
   "execution_count": 69,
   "id": "8a120a21",
   "metadata": {},
   "outputs": [
    {
     "data": {
      "text/plain": [
       "Text(0, 0.5, 'Price_USD_Today')"
      ]
     },
     "execution_count": 69,
     "metadata": {},
     "output_type": "execute_result"
    },
    {
     "data": {
      "image/png": "[encoded data removed]",
      "text/plain": [
       "<Figure size 432x288 with 1 Axes>"
      ]
     },
     "metadata": {
      "needs_background": "light"
     },
     "output_type": "display_data"
    }
   ],
   "source": [
    "x = df['Areas']\n",
    "y = df['Price-USD-Today']\n",
    "plt.scatter(x,y)\n",
    "plt.title(\"scatterplot of Areas vs Price_USD_Today\")\n",
    "plt.xlabel('Areas')\n",
    "plt.ylabel('Price_USD_Today')"
   ]
  },
  {
   "cell_type": "code",
   "execution_count": 70,
   "id": "9a9850ff",
   "metadata": {},
   "outputs": [
    {
     "data": {
      "image/png": "[encoded data removed]",
      "text/plain": [
       "<Figure size 432x288 with 2 Axes>"
      ]
     },
     "metadata": {
      "needs_background": "light"
     },
     "output_type": "display_data"
    }
   ],
   "source": [
    "df_sample = df[['Having-Elevator','Parking-lot','Price-USD-Today']]\n",
    "df_sample_grp = df_sample.groupby(['Having-Elevator','Parking-lot'],as_index=False).mean()\n",
    "df_sample_Pivot = df_sample_grp.pivot(index='Having-Elevator',columns='Parking-lot')\n",
    "sns.heatmap(df_sample_Pivot)\n",
    "plt.title('Price_USD_Today')\n",
    "plt.show()"
   ]
  },
  {
   "cell_type": "code",
   "execution_count": 71,
   "id": "edc8a1ab",
   "metadata": {},
   "outputs": [
    {
     "data": {
      "text/plain": [
       "F_onewayResult(statistic=130.34270155932523, pvalue=1.1564940537251408e-29)"
      ]
     },
     "execution_count": 71,
     "metadata": {},
     "output_type": "execute_result"
    }
   ],
   "source": [
    "df_anova = df[['Parking-lot','Price-USD-Today']]\n",
    "grouped_anova = df_anova.groupby(['Parking-lot'])\n",
    "anova_result = f_oneway(grouped_anova.get_group('Having_Parking_lot')['Price-USD-Today'],grouped_anova.get_group('Not_Having_Parking_lot')['Price-USD-Today'])\n",
    "anova_result"
   ]
  },
  {
   "cell_type": "code",
   "execution_count": 72,
   "id": "cf3482aa",
   "metadata": {},
   "outputs": [
    {
     "data": {
      "text/plain": [
       "(0.0, 370270.6658185526)"
      ]
     },
     "execution_count": 72,
     "metadata": {},
     "output_type": "execute_result"
    },
    {
     "data": {
      "image/png": "[encoded data removed]",
      "text/plain": [
       "<Figure size 432x288 with 1 Axes>"
      ]
     },
     "metadata": {
      "needs_background": "light"
     },
     "output_type": "display_data"
    }
   ],
   "source": [
    "df['Areas'] = pd.to_numeric(df['Areas'],errors = 'coerce')\n",
    "sns.regplot(x='Areas' , y='Price-USD-Today' , data=df)\n",
    "plt.ylim(0,)"
   ]
  },
  {
   "cell_type": "code",
   "execution_count": 73,
   "id": "9f96b1e7",
   "metadata": {},
   "outputs": [],
   "source": [
    "df['Areas'] = df['Areas'].replace(' ' or np.nan , df['Areas'].mean())\n",
    "df['Areas'] = df['Areas'].astype('float')"
   ]
  },
  {
   "cell_type": "code",
   "execution_count": 74,
   "id": "6a595b57",
   "metadata": {},
   "outputs": [
    {
     "data": {
      "text/plain": [
       "(0.5677324853080685, 4.102914231350846e-296)"
      ]
     },
     "execution_count": 74,
     "metadata": {},
     "output_type": "execute_result"
    }
   ],
   "source": [
    "Pearson_Coef , P_Value = pearsonr(df['Rooms'],df['Price-USD-Today'])\n",
    "Pearson_Coef , P_Value"
   ]
  },
  {
   "cell_type": "code",
   "execution_count": 75,
   "id": "d94c95b8",
   "metadata": {},
   "outputs": [
    {
     "data": {
      "text/html": [
       "<div>\n",
       "<style scoped>\n",
       "    .dataframe tbody tr th:only-of-type {\n",
       "        vertical-align: middle;\n",
       "    }\n",
       "\n",
       "    .dataframe tbody tr th {\n",
       "        vertical-align: top;\n",
       "    }\n",
       "\n",
       "    .dataframe thead th {\n",
       "        text-align: right;\n",
       "    }\n",
       "</style>\n",
       "<table border=\"1\" class=\"dataframe\">\n",
       "  <thead>\n",
       "    <tr style=\"text-align: right;\">\n",
       "      <th></th>\n",
       "      <th>Areas</th>\n",
       "      <th>Rooms</th>\n",
       "      <th>Price-USD-Today</th>\n",
       "      <th>Price-Rial-Standard_score</th>\n",
       "      <th>Having_Parking_lot</th>\n",
       "      <th>Not_Having_Parking_lot</th>\n",
       "      <th>Having_Warehouse</th>\n",
       "      <th>Not_Having_Warehouse</th>\n",
       "      <th>Having_Elevator</th>\n",
       "      <th>Not_Having_Elevator</th>\n",
       "    </tr>\n",
       "  </thead>\n",
       "  <tbody>\n",
       "    <tr>\n",
       "      <th>Areas</th>\n",
       "      <td>1.000000</td>\n",
       "      <td>0.672959</td>\n",
       "      <td>0.722647</td>\n",
       "      <td>0.722647</td>\n",
       "      <td>0.197698</td>\n",
       "      <td>-0.197698</td>\n",
       "      <td>0.076829</td>\n",
       "      <td>-0.076829</td>\n",
       "      <td>0.052384</td>\n",
       "      <td>-0.052384</td>\n",
       "    </tr>\n",
       "    <tr>\n",
       "      <th>Rooms</th>\n",
       "      <td>0.672959</td>\n",
       "      <td>1.000000</td>\n",
       "      <td>0.567732</td>\n",
       "      <td>0.567732</td>\n",
       "      <td>0.274804</td>\n",
       "      <td>-0.274804</td>\n",
       "      <td>0.129888</td>\n",
       "      <td>-0.129888</td>\n",
       "      <td>0.181707</td>\n",
       "      <td>-0.181707</td>\n",
       "    </tr>\n",
       "    <tr>\n",
       "      <th>Price-USD-Today</th>\n",
       "      <td>0.722647</td>\n",
       "      <td>0.567732</td>\n",
       "      <td>1.000000</td>\n",
       "      <td>1.000000</td>\n",
       "      <td>0.190086</td>\n",
       "      <td>-0.190086</td>\n",
       "      <td>0.109367</td>\n",
       "      <td>-0.109367</td>\n",
       "      <td>0.111446</td>\n",
       "      <td>-0.111446</td>\n",
       "    </tr>\n",
       "    <tr>\n",
       "      <th>Price-Rial-Standard_score</th>\n",
       "      <td>0.722647</td>\n",
       "      <td>0.567732</td>\n",
       "      <td>1.000000</td>\n",
       "      <td>1.000000</td>\n",
       "      <td>0.190086</td>\n",
       "      <td>-0.190086</td>\n",
       "      <td>0.109367</td>\n",
       "      <td>-0.109367</td>\n",
       "      <td>0.111446</td>\n",
       "      <td>-0.111446</td>\n",
       "    </tr>\n",
       "    <tr>\n",
       "      <th>Having_Parking_lot</th>\n",
       "      <td>0.197698</td>\n",
       "      <td>0.274804</td>\n",
       "      <td>0.190086</td>\n",
       "      <td>0.190086</td>\n",
       "      <td>1.000000</td>\n",
       "      <td>-1.000000</td>\n",
       "      <td>0.432118</td>\n",
       "      <td>-0.432118</td>\n",
       "      <td>0.431292</td>\n",
       "      <td>-0.431292</td>\n",
       "    </tr>\n",
       "    <tr>\n",
       "      <th>Not_Having_Parking_lot</th>\n",
       "      <td>-0.197698</td>\n",
       "      <td>-0.274804</td>\n",
       "      <td>-0.190086</td>\n",
       "      <td>-0.190086</td>\n",
       "      <td>-1.000000</td>\n",
       "      <td>1.000000</td>\n",
       "      <td>-0.432118</td>\n",
       "      <td>0.432118</td>\n",
       "      <td>-0.431292</td>\n",
       "      <td>0.431292</td>\n",
       "    </tr>\n",
       "    <tr>\n",
       "      <th>Having_Warehouse</th>\n",
       "      <td>0.076829</td>\n",
       "      <td>0.129888</td>\n",
       "      <td>0.109367</td>\n",
       "      <td>0.109367</td>\n",
       "      <td>0.432118</td>\n",
       "      <td>-0.432118</td>\n",
       "      <td>1.000000</td>\n",
       "      <td>-1.000000</td>\n",
       "      <td>0.203174</td>\n",
       "      <td>-0.203174</td>\n",
       "    </tr>\n",
       "    <tr>\n",
       "      <th>Not_Having_Warehouse</th>\n",
       "      <td>-0.076829</td>\n",
       "      <td>-0.129888</td>\n",
       "      <td>-0.109367</td>\n",
       "      <td>-0.109367</td>\n",
       "      <td>-0.432118</td>\n",
       "      <td>0.432118</td>\n",
       "      <td>-1.000000</td>\n",
       "      <td>1.000000</td>\n",
       "      <td>-0.203174</td>\n",
       "      <td>0.203174</td>\n",
       "    </tr>\n",
       "    <tr>\n",
       "      <th>Having_Elevator</th>\n",
       "      <td>0.052384</td>\n",
       "      <td>0.181707</td>\n",
       "      <td>0.111446</td>\n",
       "      <td>0.111446</td>\n",
       "      <td>0.431292</td>\n",
       "      <td>-0.431292</td>\n",
       "      <td>0.203174</td>\n",
       "      <td>-0.203174</td>\n",
       "      <td>1.000000</td>\n",
       "      <td>-1.000000</td>\n",
       "    </tr>\n",
       "    <tr>\n",
       "      <th>Not_Having_Elevator</th>\n",
       "      <td>-0.052384</td>\n",
       "      <td>-0.181707</td>\n",
       "      <td>-0.111446</td>\n",
       "      <td>-0.111446</td>\n",
       "      <td>-0.431292</td>\n",
       "      <td>0.431292</td>\n",
       "      <td>-0.203174</td>\n",
       "      <td>0.203174</td>\n",
       "      <td>-1.000000</td>\n",
       "      <td>1.000000</td>\n",
       "    </tr>\n",
       "  </tbody>\n",
       "</table>\n",
       "</div>"
      ],
      "text/plain": [
       "                              Areas     Rooms  Price-USD-Today  \\\n",
       "Areas                      1.000000  0.672959         0.722647   \n",
       "Rooms                      0.672959  1.000000         0.567732   \n",
       "Price-USD-Today            0.722647  0.567732         1.000000   \n",
       "Price-Rial-Standard_score  0.722647  0.567732         1.000000   \n",
       "Having_Parking_lot         0.197698  0.274804         0.190086   \n",
       "Not_Having_Parking_lot    -0.197698 -0.274804        -0.190086   \n",
       "Having_Warehouse           0.076829  0.129888         0.109367   \n",
       "Not_Having_Warehouse      -0.076829 -0.129888        -0.109367   \n",
       "Having_Elevator            0.052384  0.181707         0.111446   \n",
       "Not_Having_Elevator       -0.052384 -0.181707        -0.111446   \n",
       "\n",
       "                           Price-Rial-Standard_score  Having_Parking_lot  \\\n",
       "Areas                                       0.722647            0.197698   \n",
       "Rooms                                       0.567732            0.274804   \n",
       "Price-USD-Today                             1.000000            0.190086   \n",
       "Price-Rial-Standard_score                   1.000000            0.190086   \n",
       "Having_Parking_lot                          0.190086            1.000000   \n",
       "Not_Having_Parking_lot                     -0.190086           -1.000000   \n",
       "Having_Warehouse                            0.109367            0.432118   \n",
       "Not_Having_Warehouse                       -0.109367           -0.432118   \n",
       "Having_Elevator                             0.111446            0.431292   \n",
       "Not_Having_Elevator                        -0.111446           -0.431292   \n",
       "\n",
       "                           Not_Having_Parking_lot  Having_Warehouse  \\\n",
       "Areas                                   -0.197698          0.076829   \n",
       "Rooms                                   -0.274804          0.129888   \n",
       "Price-USD-Today                         -0.190086          0.109367   \n",
       "Price-Rial-Standard_score               -0.190086          0.109367   \n",
       "Having_Parking_lot                      -1.000000          0.432118   \n",
       "Not_Having_Parking_lot                   1.000000         -0.432118   \n",
       "Having_Warehouse                        -0.432118          1.000000   \n",
       "Not_Having_Warehouse                     0.432118         -1.000000   \n",
       "Having_Elevator                         -0.431292          0.203174   \n",
       "Not_Having_Elevator                      0.431292         -0.203174   \n",
       "\n",
       "                           Not_Having_Warehouse  Having_Elevator  \\\n",
       "Areas                                 -0.076829         0.052384   \n",
       "Rooms                                 -0.129888         0.181707   \n",
       "Price-USD-Today                       -0.109367         0.111446   \n",
       "Price-Rial-Standard_score             -0.109367         0.111446   \n",
       "Having_Parking_lot                    -0.432118         0.431292   \n",
       "Not_Having_Parking_lot                 0.432118        -0.431292   \n",
       "Having_Warehouse                      -1.000000         0.203174   \n",
       "Not_Having_Warehouse                   1.000000        -0.203174   \n",
       "Having_Elevator                       -0.203174         1.000000   \n",
       "Not_Having_Elevator                    0.203174        -1.000000   \n",
       "\n",
       "                           Not_Having_Elevator  \n",
       "Areas                                -0.052384  \n",
       "Rooms                                -0.181707  \n",
       "Price-USD-Today                      -0.111446  \n",
       "Price-Rial-Standard_score            -0.111446  \n",
       "Having_Parking_lot                   -0.431292  \n",
       "Not_Having_Parking_lot                0.431292  \n",
       "Having_Warehouse                     -0.203174  \n",
       "Not_Having_Warehouse                  0.203174  \n",
       "Having_Elevator                      -1.000000  \n",
       "Not_Having_Elevator                   1.000000  "
      ]
     },
     "execution_count": 75,
     "metadata": {},
     "output_type": "execute_result"
    }
   ],
   "source": [
    "df.corr()"
   ]
  },
  {
   "cell_type": "code",
   "execution_count": 76,
   "id": "97a7d02f",
   "metadata": {},
   "outputs": [],
   "source": [
    "df[['Areas']] = df[['Areas']].replace(' ' , df[['Areas']].mean())\n",
    "df[['Areas']] = df[['Areas']].replace(np.nan , df[['Areas']].mean())"
   ]
  },
  {
   "cell_type": "code",
   "execution_count": 77,
   "id": "6f4f0c24",
   "metadata": {},
   "outputs": [
    {
     "data": {
      "text/plain": [
       "(0.7223909526631838, 0.0)"
      ]
     },
     "execution_count": 77,
     "metadata": {},
     "output_type": "execute_result"
    }
   ],
   "source": [
    "Pearson_Coef , P_Value = pearsonr(df['Areas'],df['Price-USD-Today'])\n",
    "Pearson_Coef , P_Value"
   ]
  },
  {
   "cell_type": "code",
   "execution_count": 78,
   "id": "75118e6e",
   "metadata": {},
   "outputs": [
    {
     "name": "stderr",
     "output_type": "stream",
     "text": [
      "C:\\Users\\User\\AppData\\Local\\Programs\\Python\\Python310\\lib\\site-packages\\sklearn\\base.py:450: UserWarning: X does not have valid feature names, but LinearRegression was fitted with feature names\n",
      "  warnings.warn(\n"
     ]
    },
    {
     "data": {
      "text/plain": [
       "array([[8594.10409126]])"
      ]
     },
     "execution_count": 78,
     "metadata": {},
     "output_type": "execute_result"
    }
   ],
   "source": [
    "lr = LinearRegression()\n",
    "x = df[['Areas']]\n",
    "y = df[['Price-USD-Today']]\n",
    "lr.fit(x,y)\n",
    "lr.intercept_ , lr.coef_\n",
    "lr.predict([[70]])"
   ]
  },
  {
   "cell_type": "code",
   "execution_count": 79,
   "id": "07dc62d5",
   "metadata": {},
   "outputs": [],
   "source": [
    "Multiple_x = df[['Areas','Rooms','Having_Parking_lot','Having_Elevator']]\n",
    "lr.fit(Multiple_x,df[['Price-USD-Today']])\n",
    "lr.coef_ , lr.intercept_\n",
    "yhat = lr.predict(df[['Areas','Rooms','Having_Parking_lot','Having_Elevator']])"
   ]
  },
  {
   "cell_type": "code",
   "execution_count": 80,
   "id": "c3bc2460",
   "metadata": {},
   "outputs": [
    {
     "data": {
      "text/plain": [
       "<AxesSubplot:xlabel='Rooms', ylabel='Price-USD-Today'>"
      ]
     },
     "execution_count": 80,
     "metadata": {},
     "output_type": "execute_result"
    },
    {
     "data": {
      "image/png": "[encoded data removed]",
      "text/plain": [
       "<Figure size 432x288 with 1 Axes>"
      ]
     },
     "metadata": {
      "needs_background": "light"
     },
     "output_type": "display_data"
    }
   ],
   "source": [
    "sns.regplot(x='Rooms' , y='Price-USD-Today' , data=df)"
   ]
  },
  {
   "cell_type": "code",
   "execution_count": 81,
   "id": "7e960075",
   "metadata": {},
   "outputs": [
    {
     "name": "stderr",
     "output_type": "stream",
     "text": [
      "C:\\Users\\User\\AppData\\Local\\Programs\\Python\\Python310\\lib\\site-packages\\seaborn\\_decorators.py:36: FutureWarning: Pass the following variables as keyword args: x, y. From version 0.12, the only valid positional argument will be `data`, and passing other arguments without an explicit keyword will result in an error or misinterpretation.\n",
      "  warnings.warn(\n"
     ]
    },
    {
     "data": {
      "text/plain": [
       "<AxesSubplot:xlabel='Areas', ylabel='Price-USD-Today'>"
      ]
     },
     "execution_count": 81,
     "metadata": {},
     "output_type": "execute_result"
    },
    {
     "data": {
      "image/png": "[encoded data removed]",
      "text/plain": [
       "<Figure size 432x288 with 1 Axes>"
      ]
     },
     "metadata": {
      "needs_background": "light"
     },
     "output_type": "display_data"
    }
   ],
   "source": [
    "sns.residplot(df['Areas'],df[['Price-USD-Today']])"
   ]
  },
  {
   "cell_type": "code",
   "execution_count": 82,
   "id": "6650da5b",
   "metadata": {},
   "outputs": [
    {
     "name": "stderr",
     "output_type": "stream",
     "text": [
      "C:\\Users\\User\\AppData\\Local\\Programs\\Python\\Python310\\lib\\site-packages\\seaborn\\distributions.py:2619: FutureWarning: `distplot` is a deprecated function and will be removed in a future version. Please adapt your code to use either `displot` (a figure-level function with similar flexibility) or `kdeplot` (an axes-level function for kernel density plots).\n",
      "  warnings.warn(msg, FutureWarning)\n",
      "C:\\Users\\User\\AppData\\Local\\Programs\\Python\\Python310\\lib\\site-packages\\seaborn\\distributions.py:2619: FutureWarning: `distplot` is a deprecated function and will be removed in a future version. Please adapt your code to use either `displot` (a figure-level function with similar flexibility) or `kdeplot` (an axes-level function for kernel density plots).\n",
      "  warnings.warn(msg, FutureWarning)\n"
     ]
    },
    {
     "data": {
      "text/plain": [
       "<AxesSubplot:xlabel='Price-USD-Today', ylabel='Density'>"
      ]
     },
     "execution_count": 82,
     "metadata": {},
     "output_type": "execute_result"
    },
    {
     "data": {
      "image/png": "[encoded data removed]",
      "text/plain": [
       "<Figure size 432x288 with 1 Axes>"
      ]
     },
     "metadata": {
      "needs_background": "light"
     },
     "output_type": "display_data"
    }
   ],
   "source": [
    "ax1 = sns.distplot(df['Price-USD-Today'],hist=False,color='r',label='Actual Price')\n",
    "sns.distplot(yhat,hist=False,color='g',label='Predicted Price',ax=ax1)"
   ]
  },
  {
   "cell_type": "code",
   "execution_count": 83,
   "id": "2b8daeb0",
   "metadata": {},
   "outputs": [
    {
     "name": "stdout",
     "output_type": "stream",
     "text": [
      "            3          2\n",
      "-0.0006788 x + 0.3925 x + 324.5 x - 1.769e+04\n"
     ]
    }
   ],
   "source": [
    "f = np.polyfit(df['Areas'],df['Price-USD-Today'],3)\n",
    "p = np.poly1d(f)\n",
    "print(p)"
   ]
  },
  {
   "cell_type": "code",
   "execution_count": 84,
   "id": "a334b12b",
   "metadata": {},
   "outputs": [
    {
     "data": {
      "text/plain": [
       "array([8447.27824217])"
      ]
     },
     "execution_count": 84,
     "metadata": {},
     "output_type": "execute_result"
    }
   ],
   "source": [
    "pr = PolynomialFeatures(degree=2,include_bias=False)\n",
    "x_polly = pr.fit_transform(df[['Areas','Rooms']])\n",
    "lr.fit(x_polly,df['Price-USD-Today'])\n",
    "lr.coef_\n",
    "lr.predict(pr.fit_transform([[80,2]]))"
   ]
  },
  {
   "cell_type": "code",
   "execution_count": 85,
   "id": "50a983f8",
   "metadata": {},
   "outputs": [
    {
     "name": "stderr",
     "output_type": "stream",
     "text": [
      "C:\\Users\\User\\AppData\\Local\\Programs\\Python\\Python310\\lib\\site-packages\\sklearn\\base.py:450: UserWarning: X does not have valid feature names, but StandardScaler was fitted with feature names\n",
      "  warnings.warn(\n"
     ]
    },
    {
     "data": {
      "text/plain": [
       "array([12525.22236248])"
      ]
     },
     "execution_count": 85,
     "metadata": {},
     "output_type": "execute_result"
    }
   ],
   "source": [
    "scale = StandardScaler()\n",
    "scale.fit(df[['Areas','Rooms']])\n",
    "x_scale = scale.transform(df[['Areas','Rooms']])\n",
    "lr.fit(x_scale,df['Price-USD-Today'])\n",
    "lr.predict(scale.transform([[80,2]]))"
   ]
  },
  {
   "cell_type": "code",
   "execution_count": 86,
   "id": "8368b7bb",
   "metadata": {},
   "outputs": [
    {
     "name": "stderr",
     "output_type": "stream",
     "text": [
      "C:\\Users\\User\\AppData\\Local\\Programs\\Python\\Python310\\lib\\site-packages\\sklearn\\base.py:450: UserWarning: X does not have valid feature names, but StandardScaler was fitted with feature names\n",
      "  warnings.warn(\n"
     ]
    },
    {
     "data": {
      "text/plain": [
       "array([[8447.27824214]])"
      ]
     },
     "execution_count": 86,
     "metadata": {},
     "output_type": "execute_result"
    }
   ],
   "source": [
    "Input = [('scale',StandardScaler()) , ('Polynomial',PolynomialFeatures(degree=2)) , ('model',LinearRegression())]\n",
    "pipe = Pipeline(Input)\n",
    "pipe.fit(df[['Areas','Rooms']],df[['Price-USD-Today']])\n",
    "pipe.predict([[80,2]])"
   ]
  },
  {
   "cell_type": "code",
   "execution_count": 87,
   "id": "3c6db772",
   "metadata": {},
   "outputs": [
    {
     "data": {
      "text/plain": [
       "441502139.89230996"
      ]
     },
     "execution_count": 87,
     "metadata": {},
     "output_type": "execute_result"
    }
   ],
   "source": [
    "mean_squared_error(df[['Price-USD-Today']],yhat)"
   ]
  },
  {
   "cell_type": "code",
   "execution_count": 88,
   "id": "135567c2",
   "metadata": {},
   "outputs": [
    {
     "data": {
      "text/plain": [
       "0.5218486884896228"
      ]
     },
     "execution_count": 88,
     "metadata": {},
     "output_type": "execute_result"
    }
   ],
   "source": [
    "x = df[['Areas']]\n",
    "y = df[['Price-USD-Today']]\n",
    "lr.fit(x,y)\n",
    "lr.score(x,y)"
   ]
  },
  {
   "cell_type": "code",
   "execution_count": 89,
   "id": "4dc3fd79",
   "metadata": {},
   "outputs": [
    {
     "name": "stderr",
     "output_type": "stream",
     "text": [
      "C:\\Users\\User\\AppData\\Local\\Programs\\Python\\Python310\\lib\\site-packages\\sklearn\\base.py:450: UserWarning: X does not have valid feature names, but LinearRegression was fitted with feature names\n",
      "  warnings.warn(\n"
     ]
    },
    {
     "data": {
      "text/plain": [
       "array([[321.87444958]])"
      ]
     },
     "execution_count": 89,
     "metadata": {},
     "output_type": "execute_result"
    }
   ],
   "source": [
    "lr.fit(df[['Areas']],df[['Price-USD-Today']])\n",
    "lr.predict([[90]])\n",
    "lr.coef_"
   ]
  },
  {
   "cell_type": "code",
   "execution_count": 90,
   "id": "556e447b",
   "metadata": {},
   "outputs": [],
   "source": [
    "x_train , x_test , y_train , y_test = train_test_split(df[['Areas']],df[['Price-USD-Today']],test_size=0.3,random_state=0)"
   ]
  },
  {
   "cell_type": "code",
   "execution_count": 91,
   "id": "9298b398",
   "metadata": {},
   "outputs": [
    {
     "data": {
      "text/plain": [
       "0.5012016225566379"
      ]
     },
     "execution_count": 91,
     "metadata": {},
     "output_type": "execute_result"
    }
   ],
   "source": [
    "scores = cross_val_score(lr,df[['Areas']],df[['Price-USD-Today']],cv=4)\n",
    "np.mean(scores)"
   ]
  },
  {
   "cell_type": "code",
   "execution_count": 92,
   "id": "8a8f8cc9",
   "metadata": {},
   "outputs": [
    {
     "data": {
      "text/plain": [
       "array([[ 6138.91644189],\n",
       "       [ 5175.11403953],\n",
       "       [11279.19592115],\n",
       "       ...,\n",
       "       [10280.49092515],\n",
       "       [20173.4253695 ],\n",
       "       [12588.8422955 ]])"
      ]
     },
     "execution_count": 92,
     "metadata": {},
     "output_type": "execute_result"
    }
   ],
   "source": [
    "yhat_2 = cross_val_predict(lr,df[['Areas']],df[['Price-USD-Today']],cv=4)\n",
    "yhat_2"
   ]
  },
  {
   "cell_type": "code",
   "execution_count": null,
   "id": "eac7e9de",
   "metadata": {},
   "outputs": [],
   "source": [
    "R_square = []\n",
    "order = [1,2,3,4,5,6]\n",
    "for n in order:\n",
    "    pr = PolynomialFeatures(degree=n)\n",
    "    x_train_pr = pr.fit_transform(x_train)\n",
    "    x_test_pr = pr.fit_transform(x_test)\n",
    "    lr.fit(x_train_pr,y_train)\n",
    "    R_square.append(lr.score(x_test_pr,y_test))\n",
    "R_square"
   ]
  },
  {
   "cell_type": "code",
   "execution_count": null,
   "id": "4b716def",
   "metadata": {},
   "outputs": [],
   "source": [
    "RidgeModel = Ridge(alpha=0.1)\n",
    "RidgeModel.fit(df[['Areas']],df[['Price-USD-Today']])\n",
    "RidgeModel.predict([[80]])"
   ]
  },
  {
   "cell_type": "code",
   "execution_count": null,
   "id": "082e888f",
   "metadata": {},
   "outputs": [],
   "source": [
    "parameters = [{'alpha':[0.01,0.1,1,10,100],'normalize':[True,False]}]\n",
    "RR = Ridge()\n",
    "Grid = GridSearchCV(RR,parameters,cv=4)\n",
    "Grid.fit(df[['Areas']],df[['Price-USD-Today']])\n",
    "Grid.best_estimator_\n",
    "scores_2 = Grid.cv_results_\n",
    "scores_2['mean_test_score']"
   ]
  },
  {
   "cell_type": "code",
   "execution_count": null,
   "id": "b0ab9e83",
   "metadata": {},
   "outputs": [],
   "source": [
    "for param , mean_val in zip(scores_2['params'],scores_2['mean_test_score']):\n",
    "    print(param , \"R^2 on test data:\" , mean_val )"
   ]
  }
 ],
 "metadata": {
  "kernelspec": {
   "display_name": "Python 3 (ipykernel)",
   "language": "python",
   "name": "python3"
  },
  "language_info": {
   "codemirror_mode": {
    "name": "ipython",
    "version": 3
   },
   "file_extension": ".py",
   "mimetype": "text/x-python",
   "name": "python",
   "nbconvert_exporter": "python",
   "pygments_lexer": "ipython3",
   "version": "3.10.2"
  }
 },
 "nbformat": 4,
 "nbformat_minor": 5
}
